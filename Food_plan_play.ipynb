{
 "cells": [
  {
   "cell_type": "code",
   "execution_count": 20,
   "metadata": {},
   "outputs": [],
   "source": [
    "# start a h5 file\n",
    "import h5py\n",
    "import numpy as np\n",
    "import random\n"
   ]
  },
  {
   "cell_type": "code",
   "execution_count": null,
   "metadata": {},
   "outputs": [],
   "source": [
    "# make a h5 file\n",
    "FoodFile = h5py.File(\"FoodPlanFile.hdf5\", \"w\")"
   ]
  },
  {
   "cell_type": "code",
   "execution_count": 2,
   "metadata": {},
   "outputs": [],
   "source": [
    "# group 1: meal options\n",
    "#group 2: ??\n",
    "#each dataset is a meal:\n",
    "#gives ingredients, breakfast/lunch/etc, pre-prepp,"
   ]
  },
  {
   "cell_type": "code",
   "execution_count": 3,
   "metadata": {},
   "outputs": [],
   "source": [
    "# making groups within the file\n",
    "Meal_Options = FoodFile.create_group(\"Meal Options\")"
   ]
  },
  {
   "cell_type": "code",
   "execution_count": 4,
   "metadata": {},
   "outputs": [
    {
     "data": {
      "text/plain": [
       "<KeysViewHDF5 ['Meal Options']>"
      ]
     },
     "execution_count": 4,
     "metadata": {},
     "output_type": "execute_result"
    }
   ],
   "source": [
    "#this prints the names of the groups\n",
    "FoodFile.keys()"
   ]
  },
  {
   "cell_type": "code",
   "execution_count": 5,
   "metadata": {},
   "outputs": [],
   "source": [
    "def add_meal_func(name, ingredient_list, meal_truths, pre_prep=False):\n",
    "    # add a meal dataset to the meal options group\n",
    "    # give the meal a title, list ingredients, define category\n",
    "    # prep_prep defaulting to false\n",
    "    a = Meal_Options.create_dataset(name=name, data=ingredient_list)    \n",
    "    a.attrs['pre-prep']  = False\n",
    "    a.attrs['Breakfast'] = \"Breakfast\" in meal_truths\n",
    "    a.attrs['Snack']     = \"Snack\" in meal_truths\n",
    "    a.attrs['Lunch']     = \"Lunch\" in meal_truths\n",
    "    a.attrs['Dinner']    = \"Dinner\" in meal_truths\n"
   ]
  },
  {
   "cell_type": "code",
   "execution_count": 14,
   "metadata": {},
   "outputs": [
    {
     "ename": "SyntaxError",
     "evalue": "invalid syntax (<ipython-input-14-85621bf4e163>, line 9)",
     "output_type": "error",
     "traceback": [
      "\u001b[1;36m  File \u001b[1;32m\"<ipython-input-14-85621bf4e163>\"\u001b[1;36m, line \u001b[1;32m9\u001b[0m\n\u001b[1;33m    add_meal_func('popcorn_meal', ['popcorn'], [] 'Snack'])\u001b[0m\n\u001b[1;37m                                                  ^\u001b[0m\n\u001b[1;31mSyntaxError\u001b[0m\u001b[1;31m:\u001b[0m invalid syntax\n"
     ]
    }
   ],
   "source": [
    "# breakfasts, snacks, and lunches\n",
    "add_meal_func('cereal_meal', ['cereal', 'milk'], ['Breakfast', 'Snack'],)\n",
    "add_meal_func('bagel_meal', ['bagel', 'butter', 'cheese', 'ham'], ['Breakfast', 'Snack'])\n",
    "add_meal_func('quiche_meal', ['milk', 'butter', 'eggs', 'pastry', 'peas', 'bacon', 'mozzarella'], ['Breakfast', 'Lunch'], pre_prep=True)\n",
    "add_meal_func('pancakes_meal', ['milk', 'butter', 'eggs', 'plain flour'], ['Breakfast'],pre_prep=True)\n",
    "add_meal_func('smoothie_meal', ['milk', 'yoghurt', 'frozen fruit', 'honey'], ['Breakfast', 'Snack'],pre_prep=True)\n",
    "add_meal_func('egg_muffins_meal', ['eggs', 'self raising flour', 'spinach', 'feta'], ['Breakfast', 'Snack'],pre_prep=True)\n",
    "add_meal_func('nut_cookies_meal', ['eggs', 'self raising flour', 'butter', 'brown sugar', 'nuts', 'dark chocolate'], ['Snack'],pre_prep=True)\n",
    "add_meal_func('popcorn_meal', ['popcorn'], ['Snack'])\n",
    "add_meal_func('quesadilla_meal', ['wraps', 'cheese'], ['Snack'])\n",
    "add_meal_func('cereal_bars_meal', ['cereal bars'], ['Snack'])\n",
    "add_meal_func('couscous_meal', ['cous cous'], ['Snack'])\n",
    "add_meal_func('fried_rice_meal', ['rice', 'mixed veg', 'nuts','eggs'], ['Breakfast', 'Snack'], pre_prep=True)\n",
    "add_meal_func('toasted_sambo_meal', ['sliced pan', 'butter', 'ham', 'cheese'], ['Lunch'])\n",
    "add_meal_func('burrito_meal', ['wraps', 'minced meat', 'rice', 'stock cube', 'onion', 'chillies', 'peppers'], ['Lunch', 'Dinner'], pre_prep=True)\n",
    "add_meal_func('potato_hash_meal', ['potatoes', 'onion', 'mixed veg', 'chorizo'], ['Breakfast','Lunch'])\n",
    "add_meal_func('tortellini_meal', ['tortellini', 'tomatoes', 'chorizo'], ['Lunch'])\n",
    "add_meal_func('noodle_stir_fry_meal', ['noodels', 'mixed veg', 'nuts'], ['Lunch'])\n",
    "add_meal_func('pesto_pasta_meal', ['pasta', 'pesto', 'pine nuts'], ['Lunch'], pre_prep=True)"
   ]
  },
  {
   "cell_type": "code",
   "execution_count": 7,
   "metadata": {},
   "outputs": [],
   "source": [
    "# dinners\n",
    "add_meal_func('curry_meal', ['rice', 'mixed veg', 'dinner protein', 'curry pot'], ['Dinner'], pre_prep=True)\n",
    "add_meal_func('sweet_n_sour_meal', ['rice', 'mixed veg', 'dinner protein', 'pineapple'], ['Dinner'])\n",
    "add_meal_func('meatballs_meal', ['minced meat', 'breadcrumbs', 'passata', 'pasta', 'onion', 'salad'], ['Dinner'], pre_prep=True)\n",
    "add_meal_func('dahl_meal', ['lentils', 'stock cube', 'tinned tomato', 'coconut milk', 'onion', 'mixed veg', 'rice'], ['Dinner'], pre_prep=True)\n",
    "add_meal_func('carbonara_meal', ['spaghetti', 'egg', 'peas', 'pancetta'], ['Dinner'])\n",
    "add_meal_func('pasta_bake_meal', ['pasta', 'butter beans', 'mixed veg', 'cheese', 'tomatoes', 'passata'], ['Dinner'], pre_prep=True)\n",
    "add_meal_func('chicken_tender_meal', ['chicken', 'breadcrumbs', 'plain flour', 'egg', 'mixed veg', 'potatoes'], ['Dinner'])\n",
    "add_meal_func('pete_pie_meal', ['pastry', 'gravy', 'mixed veg', 'dinner protein', 'salad'], ['Dinner'], pre_prep=True)"
   ]
  },
  {
   "cell_type": "code",
   "execution_count": 12,
   "metadata": {},
   "outputs": [
    {
     "name": "stdout",
     "output_type": "stream",
     "text": [
      "We currently have 26 meal options listed.\n"
     ]
    }
   ],
   "source": [
    "#print a list of all meal options\n",
    "list(Meal_Options)\n",
    "print('We currently have '+str(len(list(Meal_Options)))+' meal options listed.')"
   ]
  },
  {
   "cell_type": "code",
   "execution_count": null,
   "metadata": {},
   "outputs": [],
   "source": []
  },
  {
   "cell_type": "code",
   "execution_count": null,
   "metadata": {},
   "outputs": [],
   "source": []
  },
  {
   "cell_type": "code",
   "execution_count": null,
   "metadata": {},
   "outputs": [],
   "source": []
  },
  {
   "cell_type": "code",
   "execution_count": null,
   "metadata": {},
   "outputs": [],
   "source": [
    "# readout the attribute names of one meal dataset\n",
    "list(FoodFile['Meal Options']['bagel_meal'].attrs)"
   ]
  },
  {
   "cell_type": "code",
   "execution_count": null,
   "metadata": {},
   "outputs": [],
   "source": [
    "# readout a given attribute value\n",
    "Meal_Options['bagel_meal'].attrs['pre-prep']"
   ]
  },
  {
   "cell_type": "code",
   "execution_count": null,
   "metadata": {},
   "outputs": [],
   "source": [
    "#readout the main data content of the datafile\n",
    "Meal_Options['bagel_meal'][:]"
   ]
  },
  {
   "cell_type": "code",
   "execution_count": null,
   "metadata": {},
   "outputs": [],
   "source": []
  },
  {
   "cell_type": "code",
   "execution_count": null,
   "metadata": {},
   "outputs": [],
   "source": [
    "# list the attributes and their values for this meal\n",
    "list(Meal_Options['cereal_meal'].attrs.items())"
   ]
  },
  {
   "cell_type": "code",
   "execution_count": 21,
   "metadata": {},
   "outputs": [
    {
     "data": {
      "text/plain": [
       "['bagel_meal',\n",
       " 'cereal_meal',\n",
       " 'egg_muffins_meal',\n",
       " 'fried_rice_meal',\n",
       " 'pancakes_meal',\n",
       " 'popcorn_meal',\n",
       " 'potato_hash_meal',\n",
       " 'quiche_meal',\n",
       " 'smoothie_meal']"
      ]
     },
     "execution_count": 21,
     "metadata": {},
     "output_type": "execute_result"
    }
   ],
   "source": [
    "#'List Comprehension'\n",
    "#for item in meal options, if breakfast attribute is true, return the item\n",
    "#gives a list of returned breakfast items\n",
    "breakfast_meals = [item for item in Meal_Options if Meal_Options[item].attrs['Breakfast']==True]\n",
    "breakfast_meals"
   ]
  },
  {
   "cell_type": "code",
   "execution_count": null,
   "metadata": {},
   "outputs": [],
   "source": [
    "# what if i want to find everything that does not use eggs\n",
    "meals_without_egg =[item for item in Meal_Options if b'eggs' not in Meal_Options[item]]\n",
    "meals_without_egg"
   ]
  },
  {
   "cell_type": "code",
   "execution_count": null,
   "metadata": {},
   "outputs": [],
   "source": [
    "# what if i want to find everything that does not use eggs\n",
    "meals_with_egg =[item for item in Meal_Options if b'eggs' in Meal_Options[item]]\n",
    "meals_with_egg"
   ]
  },
  {
   "cell_type": "code",
   "execution_count": null,
   "metadata": {},
   "outputs": [],
   "source": []
  },
  {
   "cell_type": "code",
   "execution_count": 22,
   "metadata": {},
   "outputs": [],
   "source": []
  },
  {
   "cell_type": "code",
   "execution_count": 23,
   "metadata": {},
   "outputs": [
    {
     "name": "stdout",
     "output_type": "stream",
     "text": [
      "9\n",
      "10\n",
      "7\n",
      "9\n"
     ]
    }
   ],
   "source": [
    "print(len(breakfast_meals))\n",
    "print(len(snack_meals ))\n",
    "print(len(lunch_meals))\n",
    "print(len(dinner_meals))\n",
    "\n"
   ]
  },
  {
   "cell_type": "code",
   "execution_count": 29,
   "metadata": {},
   "outputs": [],
   "source": [
    "def compile_random_menu(num_days):\n",
    "\n",
    "    breakfast_meals = [item for item in Meal_Options if Meal_Options[item].attrs['Breakfast']==True]\n",
    "    snack_meals     = [item for item in Meal_Options if Meal_Options[item].attrs['Snack']==True]\n",
    "    lunch_meals     = [item for item in Meal_Options if Meal_Options[item].attrs['Lunch']==True]\n",
    "    dinner_meals    = [item for item in Meal_Options if Meal_Options[item].attrs['Dinner']==True]\n",
    "\n",
    "\n",
    "    my_brekkies = random.choices(breakfast_meals, k=num_days)\n",
    "    my_lunches = random.choices(lunch_meals, k=num_days)\n",
    "    my_snacks = random.choices(snack_meals, k=num_days)\n",
    "    my_dinners = random.choices(dinner_meals, k=num_days)\n",
    "    \n",
    "    my_meals = my_brekkies + my_lunches + my_snacks + my_dinners\n",
    "    return my_meals"
   ]
  },
  {
   "cell_type": "code",
   "execution_count": 32,
   "metadata": {},
   "outputs": [],
   "source": [
    "#randomly generate 3 days of food\n",
    "random_menu = compile_random_menu(num_days=3)"
   ]
  },
  {
   "cell_type": "code",
   "execution_count": 31,
   "metadata": {},
   "outputs": [],
   "source": [
    "# what if i wanted the shopping list to make bagels and cereal\n",
    "\n",
    "\n",
    "def convert_menu_to_shopping_list(desired_meals):\n",
    "    ingredient_dict = {}\n",
    "\n",
    "    for item in desired_meals:\n",
    "        #for each meal, fetch the list of ingredients \n",
    "        these_ingredients = Meal_Options[item][:]\n",
    "        for ingredient in these_ingredients:\n",
    "            #for each ingredient, add it to dictionary if it's not already there\n",
    "            #increment 'amount' assocaited with the ingredient by one\n",
    "            if ingredient not in ingredient_dict: ingredient_dict[ingredient] = 0\n",
    "            ingredient_dict[ingredient] = ingredient_dict[ingredient] +1\n",
    "    \n",
    "    return ingredient_dict"
   ]
  },
  {
   "cell_type": "code",
   "execution_count": 33,
   "metadata": {},
   "outputs": [
    {
     "data": {
      "text/plain": [
       "{b'milk': 2,\n",
       " b'butter': 4,\n",
       " b'eggs': 4,\n",
       " b'plain flour': 2,\n",
       " b'potatoes': 1,\n",
       " b'onion': 2,\n",
       " b'mixed veg': 5,\n",
       " b'chorizo': 1,\n",
       " b'sliced pan': 1,\n",
       " b'ham': 1,\n",
       " b'cheese': 2,\n",
       " b'noodels': 2,\n",
       " b'nuts': 3,\n",
       " b'self raising flour': 2,\n",
       " b'brown sugar': 1,\n",
       " b'dark chocolate': 1,\n",
       " b'cous cous': 1,\n",
       " b'spinach': 1,\n",
       " b'feta': 1,\n",
       " b'wraps': 1,\n",
       " b'minced meat': 1,\n",
       " b'rice': 1,\n",
       " b'stock cube': 1,\n",
       " b'chillies': 1,\n",
       " b'peppers': 1,\n",
       " b'pasta': 1,\n",
       " b'butter beans': 1,\n",
       " b'tomatoes': 1,\n",
       " b'passata': 1,\n",
       " b'pastry': 1,\n",
       " b'gravy': 1,\n",
       " b'dinner protein': 1,\n",
       " b'salad': 1}"
      ]
     },
     "execution_count": 33,
     "metadata": {},
     "output_type": "execute_result"
    }
   ],
   "source": [
    "convert_menu_to_shopping_list(desired_meals=random_menu)"
   ]
  },
  {
   "cell_type": "code",
   "execution_count": 34,
   "metadata": {},
   "outputs": [
    {
     "data": {
      "text/plain": [
       "['pancakes_meal',\n",
       " 'pancakes_meal',\n",
       " 'potato_hash_meal',\n",
       " 'toasted_sambo_meal',\n",
       " 'noodle_stir_fry_meal',\n",
       " 'noodle_stir_fry_meal',\n",
       " 'nut_cookies_meal',\n",
       " 'couscous_meal',\n",
       " 'egg_muffins_meal',\n",
       " 'burrito_meal',\n",
       " 'pasta_bake_meal',\n",
       " 'pete_pie_meal']"
      ]
     },
     "execution_count": 34,
     "metadata": {},
     "output_type": "execute_result"
    }
   ],
   "source": [
    "random_menu"
   ]
  },
  {
   "cell_type": "code",
   "execution_count": null,
   "metadata": {},
   "outputs": [],
   "source": []
  }
 ],
 "metadata": {
  "kernelspec": {
   "display_name": "Python 3",
   "language": "python",
   "name": "python3"
  },
  "language_info": {
   "codemirror_mode": {
    "name": "ipython",
    "version": 3
   },
   "file_extension": ".py",
   "mimetype": "text/x-python",
   "name": "python",
   "nbconvert_exporter": "python",
   "pygments_lexer": "ipython3",
   "version": "3.8.10"
  }
 },
 "nbformat": 4,
 "nbformat_minor": 4
}
